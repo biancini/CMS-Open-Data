{
 "cells": [
  {
   "cell_type": "code",
   "execution_count": 1,
   "id": "58821265-5e86-4463-b930-d60cba4dd4cb",
   "metadata": {},
   "outputs": [],
   "source": [
    "import uproot\n",
    "import awkward as ak"
   ]
  },
  {
   "cell_type": "code",
   "execution_count": 2,
   "id": "c850e3ec-2084-45c3-8176-210e74778f1c",
   "metadata": {},
   "outputs": [
    {
     "data": {
      "text/plain": [
       "<TTree 'events' (275 branches) at 0x00405efba2f0>"
      ]
     },
     "execution_count": 2,
     "metadata": {},
     "output_type": "execute_result"
    }
   ],
   "source": [
    "events = uproot.open('root://eospublic.cern.ch//eos/opendata/cms/upload/od-workshop/ws2021/myoutput_odws2022-ttbaljets-prodv2.0_merged.root')['events']\n",
    "events"
   ]
  },
  {
   "cell_type": "code",
   "execution_count": 3,
   "id": "250c1a0b-a63e-4350-ae61-0e35dfc81632",
   "metadata": {},
   "outputs": [
    {
     "data": {
      "text/plain": [
       "['numberelectron',\n",
       " 'nelectron_e',\n",
       " 'electron_e',\n",
       " 'nelectron_pt',\n",
       " 'electron_pt',\n",
       " 'nelectron_px',\n",
       " 'electron_px',\n",
       " 'nelectron_py',\n",
       " 'electron_py',\n",
       " 'nelectron_pz',\n",
       " 'electron_pz',\n",
       " 'nelectron_eta',\n",
       " 'electron_eta',\n",
       " 'nelectron_phi',\n",
       " 'electron_phi',\n",
       " 'nelectron_ch',\n",
       " 'electron_ch',\n",
       " 'nelectron_iso',\n",
       " 'electron_iso',\n",
       " 'nelectron_veto',\n",
       " 'electron_veto',\n",
       " 'nelectron_isLoose',\n",
       " 'electron_isLoose',\n",
       " 'nelectron_isMedium',\n",
       " 'electron_isMedium',\n",
       " 'nelectron_isTight',\n",
       " 'electron_isTight',\n",
       " 'nelectron_dxy',\n",
       " 'electron_dxy',\n",
       " 'nelectron_dz',\n",
       " 'electron_dz',\n",
       " 'nelectron_dxyError',\n",
       " 'electron_dxyError',\n",
       " 'nelectron_dzError',\n",
       " 'electron_dzError',\n",
       " 'nelectron_ismvaLoose',\n",
       " 'electron_ismvaLoose',\n",
       " 'nelectron_ismvaTight',\n",
       " 'electron_ismvaTight',\n",
       " 'nelectron_ip3d',\n",
       " 'electron_ip3d',\n",
       " 'nelectron_sip3d',\n",
       " 'electron_sip3d',\n",
       " 'numberfatjet',\n",
       " 'nfatjet_e',\n",
       " 'fatjet_e',\n",
       " 'nfatjet_pt',\n",
       " 'fatjet_pt',\n",
       " 'nfatjet_eta',\n",
       " 'fatjet_eta',\n",
       " 'nfatjet_phi',\n",
       " 'fatjet_phi',\n",
       " 'nfatjet_ch',\n",
       " 'fatjet_ch',\n",
       " 'nfatjet_mass',\n",
       " 'fatjet_mass',\n",
       " 'nfatjet_corrpt',\n",
       " 'fatjet_corrpt',\n",
       " 'nfatjet_corrptUp',\n",
       " 'fatjet_corrptUp',\n",
       " 'nfatjet_corrptDown',\n",
       " 'fatjet_corrptDown',\n",
       " 'nfatjet_corrptSmearUp',\n",
       " 'fatjet_corrptSmearUp',\n",
       " 'nfatjet_corrptSmearDown',\n",
       " 'fatjet_corrptSmearDown',\n",
       " 'nfatjet_corrmass',\n",
       " 'fatjet_corrmass',\n",
       " 'nfatjet_corre',\n",
       " 'fatjet_corre',\n",
       " 'nfatjet_corrpx',\n",
       " 'fatjet_corrpx',\n",
       " 'nfatjet_corrpy',\n",
       " 'fatjet_corrpy',\n",
       " 'nfatjet_corrpz',\n",
       " 'fatjet_corrpz',\n",
       " 'nfatjet_prunedmass',\n",
       " 'fatjet_prunedmass',\n",
       " 'nfatjet_softdropmass',\n",
       " 'fatjet_softdropmass',\n",
       " 'nfatjet_tau1',\n",
       " 'fatjet_tau1',\n",
       " 'nfatjet_tau2',\n",
       " 'fatjet_tau2',\n",
       " 'nfatjet_tau3',\n",
       " 'fatjet_tau3',\n",
       " 'nfatjet_subjet1btag',\n",
       " 'fatjet_subjet1btag',\n",
       " 'nfatjet_subjet2btag',\n",
       " 'fatjet_subjet2btag',\n",
       " 'nfatjet_subjet1hflav',\n",
       " 'fatjet_subjet1hflav',\n",
       " 'nfatjet_subjet2hflav',\n",
       " 'fatjet_subjet2hflav',\n",
       " 'numberjet',\n",
       " 'njet_e',\n",
       " 'jet_e',\n",
       " 'njet_pt',\n",
       " 'jet_pt',\n",
       " 'njet_eta',\n",
       " 'jet_eta',\n",
       " 'njet_phi',\n",
       " 'jet_phi',\n",
       " 'njet_ch',\n",
       " 'jet_ch',\n",
       " 'njet_mass',\n",
       " 'jet_mass',\n",
       " 'njet_btag',\n",
       " 'jet_btag',\n",
       " 'njet_hflav',\n",
       " 'jet_hflav',\n",
       " 'njet_corrpt',\n",
       " 'jet_corrpt',\n",
       " 'njet_corrptUp',\n",
       " 'jet_corrptUp',\n",
       " 'njet_corrptDown',\n",
       " 'jet_corrptDown',\n",
       " 'njet_corrptSmearUp',\n",
       " 'jet_corrptSmearUp',\n",
       " 'njet_corrptSmearDown',\n",
       " 'jet_corrptSmearDown',\n",
       " 'njet_corrmass',\n",
       " 'jet_corrmass',\n",
       " 'njet_corre',\n",
       " 'jet_corre',\n",
       " 'njet_corrpx',\n",
       " 'jet_corrpx',\n",
       " 'njet_corrpy',\n",
       " 'jet_corrpy',\n",
       " 'njet_corrpz',\n",
       " 'jet_corrpz',\n",
       " 'btag_Weight',\n",
       " 'btag_WeightUp',\n",
       " 'btag_WeightDn',\n",
       " 'met_e',\n",
       " 'met_pt',\n",
       " 'met_px',\n",
       " 'met_py',\n",
       " 'met_phi',\n",
       " 'met_significance',\n",
       " 'met_rawpt',\n",
       " 'met_rawphi',\n",
       " 'met_rawe',\n",
       " 'numbermuon',\n",
       " 'nmuon_e',\n",
       " 'muon_e',\n",
       " 'nmuon_pt',\n",
       " 'muon_pt',\n",
       " 'nmuon_px',\n",
       " 'muon_px',\n",
       " 'nmuon_py',\n",
       " 'muon_py',\n",
       " 'nmuon_pz',\n",
       " 'muon_pz',\n",
       " 'nmuon_eta',\n",
       " 'muon_eta',\n",
       " 'nmuon_phi',\n",
       " 'muon_phi',\n",
       " 'nmuon_ch',\n",
       " 'muon_ch',\n",
       " 'nmuon_isLoose',\n",
       " 'muon_isLoose',\n",
       " 'nmuon_isMedium',\n",
       " 'muon_isMedium',\n",
       " 'nmuon_isTight',\n",
       " 'muon_isTight',\n",
       " 'nmuon_isSoft',\n",
       " 'muon_isSoft',\n",
       " 'nmuon_isHighPt',\n",
       " 'muon_isHighPt',\n",
       " 'nmuon_dxy',\n",
       " 'muon_dxy',\n",
       " 'nmuon_dz',\n",
       " 'muon_dz',\n",
       " 'nmuon_dxyError',\n",
       " 'muon_dxyError',\n",
       " 'nmuon_dzError',\n",
       " 'muon_dzError',\n",
       " 'nmuon_pfreliso03all',\n",
       " 'muon_pfreliso03all',\n",
       " 'nmuon_pfreliso04all',\n",
       " 'muon_pfreliso04all',\n",
       " 'nmuon_pfreliso04DBCorr',\n",
       " 'muon_pfreliso04DBCorr',\n",
       " 'nmuon_TkIso03',\n",
       " 'muon_TkIso03',\n",
       " 'nmuon_jetidx',\n",
       " 'muon_jetidx',\n",
       " 'nmuon_genpartidx',\n",
       " 'muon_genpartidx',\n",
       " 'nmuon_ip3d',\n",
       " 'muon_ip3d',\n",
       " 'nmuon_sip3d',\n",
       " 'muon_sip3d',\n",
       " 'numberphoton',\n",
       " 'nphoton_e',\n",
       " 'photon_e',\n",
       " 'nphoton_pt',\n",
       " 'photon_pt',\n",
       " 'nphoton_px',\n",
       " 'photon_px',\n",
       " 'nphoton_py',\n",
       " 'photon_py',\n",
       " 'nphoton_pz',\n",
       " 'photon_pz',\n",
       " 'nphoton_eta',\n",
       " 'photon_eta',\n",
       " 'nphoton_phi',\n",
       " 'photon_phi',\n",
       " 'nphoton_ch',\n",
       " 'photon_ch',\n",
       " 'nphoton_chIso',\n",
       " 'photon_chIso',\n",
       " 'nphoton_nhIso',\n",
       " 'photon_nhIso',\n",
       " 'nphoton_phIso',\n",
       " 'photon_phIso',\n",
       " 'nphoton_isLoose',\n",
       " 'photon_isLoose',\n",
       " 'nphoton_isMedium',\n",
       " 'photon_isMedium',\n",
       " 'nphoton_isTight',\n",
       " 'photon_isTight',\n",
       " 'nPV_chi2',\n",
       " 'PV_chi2',\n",
       " 'nPV_ndof',\n",
       " 'PV_ndof',\n",
       " 'PV_npvs',\n",
       " 'PV_npvsGood',\n",
       " 'nPV_x',\n",
       " 'PV_x',\n",
       " 'nPV_y',\n",
       " 'PV_y',\n",
       " 'nPV_z',\n",
       " 'PV_z',\n",
       " 'trig_Ele22_eta2p1_WPLoose_Gsf',\n",
       " 'trig_IsoMu20',\n",
       " 'trig_IsoTkMu20',\n",
       " 'numbertau',\n",
       " 'ntau_e',\n",
       " 'tau_e',\n",
       " 'ntau_pt',\n",
       " 'tau_pt',\n",
       " 'ntau_px',\n",
       " 'tau_px',\n",
       " 'ntau_py',\n",
       " 'tau_py',\n",
       " 'ntau_pz',\n",
       " 'tau_pz',\n",
       " 'ntau_eta',\n",
       " 'tau_eta',\n",
       " 'ntau_phi',\n",
       " 'tau_phi',\n",
       " 'ntau_ch',\n",
       " 'tau_ch',\n",
       " 'ntau_mass',\n",
       " 'tau_mass',\n",
       " 'ntau_decaymode',\n",
       " 'tau_decaymode',\n",
       " 'ntau_iddecaymode',\n",
       " 'tau_iddecaymode',\n",
       " 'ntau_idisoraw',\n",
       " 'tau_idisoraw',\n",
       " 'ntau_idisovloose',\n",
       " 'tau_idisovloose',\n",
       " 'ntau_idisoloose',\n",
       " 'tau_idisoloose',\n",
       " 'ntau_idisomedium',\n",
       " 'tau_idisomedium',\n",
       " 'ntau_idisotight',\n",
       " 'tau_idisotight',\n",
       " 'ntau_idantieletight',\n",
       " 'tau_idantieletight',\n",
       " 'ntau_idantimutight',\n",
       " 'tau_idantimutight']"
      ]
     },
     "execution_count": 3,
     "metadata": {},
     "output_type": "execute_result"
    }
   ],
   "source": [
    "events.keys()"
   ]
  },
  {
   "cell_type": "code",
   "execution_count": 4,
   "id": "c2375afb-65b6-461b-b746-d52f99e3659a",
   "metadata": {},
   "outputs": [
    {
     "name": "stdout",
     "output_type": "stream",
     "text": [
      "[[53.4, 0.792], [30.1], [32.9, 0.769, 0.766], ... 40], [37.9], [35.2], [30.9, 3.59]]\n"
     ]
    }
   ],
   "source": [
    "muon_pt = events['muon_pt'].array()\n",
    "print(muon_pt)"
   ]
  },
  {
   "cell_type": "code",
   "execution_count": 5,
   "id": "3ed3c47e-d39b-444d-bc57-7d982ae911b9",
   "metadata": {},
   "outputs": [
    {
     "data": {
      "text/plain": [
       "<Array [2, 1, 3, 1, 1, 1, ... 1, 1, 1, 1, 1, 2] type='15090 * int64'>"
      ]
     },
     "execution_count": 5,
     "metadata": {},
     "output_type": "execute_result"
    }
   ],
   "source": [
    "ak.num(muon_pt, axis=-1)"
   ]
  },
  {
   "cell_type": "code",
   "execution_count": 6,
   "id": "d447611b-cce0-42f0-8d54-d2c4a579e1ae",
   "metadata": {},
   "outputs": [
    {
     "name": "stdout",
     "output_type": "stream",
     "text": [
      "Input: [[53.4, 0.792], [30.1], [32.9, 0.769, 0.766], ... 40], [37.9], [35.2], [30.9, 3.59]]\n",
      "Output: [[53.4], [30.1], [32.9], [28.3], [41.7], ... [42.6], [40], [37.9], [35.2], [30.9]]\n"
     ]
    }
   ],
   "source": [
    "print('Input:', muon_pt)\n",
    "print('Output:', muon_pt[muon_pt > 10])"
   ]
  },
  {
   "cell_type": "code",
   "execution_count": 7,
   "id": "3f4fe203-56ef-4bdb-aaee-399ba6f0e4c0",
   "metadata": {},
   "outputs": [
    {
     "name": "stdout",
     "output_type": "stream",
     "text": [
      "Input Counts: 26690\n",
      "Output Counts: 17274\n",
      "Input Size: 15090\n",
      "Output Size: 15090\n"
     ]
    }
   ],
   "source": [
    "print('Input Counts:', ak.sum(ak.num(muon_pt, axis=1)))\n",
    "print('Output Counts:', ak.sum(ak.num(muon_pt[muon_pt > 10], axis=1)))\n",
    "\n",
    "print('Input Size:', ak.num(muon_pt, axis=0))\n",
    "print('Output Size:', ak.num(muon_pt[muon_pt > 10], axis=0))"
   ]
  },
  {
   "cell_type": "code",
   "execution_count": 8,
   "id": "1df37f6c-50a4-4e70-aed4-41e8d143cd05",
   "metadata": {},
   "outputs": [],
   "source": [
    "import uproot\n",
    "import awkward as ak\n",
    "import hist\n",
    "from hist import Hist\n",
    "from coffea.nanoevents import NanoEventsFactory, BaseSchema"
   ]
  },
  {
   "cell_type": "code",
   "execution_count": 9,
   "id": "9c600350-bf7e-4dcd-864e-7a7bef82ba23",
   "metadata": {},
   "outputs": [],
   "source": [
    "from agc_schema import AGCSchema\n",
    "agc_events = NanoEventsFactory.from_root('root://eospublic.cern.ch//eos/opendata/cms/upload/od-workshop/ws2021/myoutput_odws2022-ttbaljets-prodv2.0_merged.root', schemaclass=AGCSchema, treepath='events').events()"
   ]
  },
  {
   "cell_type": "code",
   "execution_count": 10,
   "id": "664846f1-0f0a-4282-b796-2d0a1398c67b",
   "metadata": {},
   "outputs": [
    {
     "data": {
      "text/plain": [
       "['fatjet',\n",
       " 'electron',\n",
       " 'muon',\n",
       " 'photon',\n",
       " 'tau',\n",
       " 'jet',\n",
       " 'met',\n",
       " 'trig',\n",
       " 'btag',\n",
       " 'PV']"
      ]
     },
     "execution_count": 10,
     "metadata": {},
     "output_type": "execute_result"
    }
   ],
   "source": [
    "agc_events.fields"
   ]
  },
  {
   "cell_type": "code",
   "execution_count": 11,
   "id": "774c21dc-5d6e-48e0-84ad-32437142e332",
   "metadata": {},
   "outputs": [
    {
     "data": {
      "text/plain": [
       "['pt',\n",
       " 'px',\n",
       " 'py',\n",
       " 'pz',\n",
       " 'eta',\n",
       " 'phi',\n",
       " 'ch',\n",
       " 'isLoose',\n",
       " 'isMedium',\n",
       " 'isTight',\n",
       " 'isSoft',\n",
       " 'isHighPt',\n",
       " 'dxy',\n",
       " 'dz',\n",
       " 'dxyError',\n",
       " 'dzError',\n",
       " 'pfreliso03all',\n",
       " 'pfreliso04all',\n",
       " 'pfreliso04DBCorr',\n",
       " 'TkIso03',\n",
       " 'jetidx',\n",
       " 'genpartidx',\n",
       " 'ip3d',\n",
       " 'sip3d',\n",
       " 'energy']"
      ]
     },
     "execution_count": 11,
     "metadata": {},
     "output_type": "execute_result"
    }
   ],
   "source": [
    "agc_events.muon.fields"
   ]
  },
  {
   "cell_type": "code",
   "execution_count": 12,
   "id": "a5c3ec0c-f035-4b7c-a2e6-e832e40ac531",
   "metadata": {},
   "outputs": [
    {
     "data": {
      "text/plain": [
       "<LorentzVectorRecord ... y: -17.7, z: -11.9, t: 58.2} type='LorentzVector[\"x\": f...'>"
      ]
     },
     "execution_count": 12,
     "metadata": {},
     "output_type": "execute_result"
    }
   ],
   "source": [
    "agc_events.muon[0, 0] + agc_events.muon[0, 1]"
   ]
  },
  {
   "cell_type": "code",
   "execution_count": 13,
   "id": "63953cd6-8ba1-4236-8421-1581b38ae746",
   "metadata": {},
   "outputs": [
    {
     "data": {
      "text/plain": [
       "2.512794926098977"
      ]
     },
     "execution_count": 13,
     "metadata": {},
     "output_type": "execute_result"
    }
   ],
   "source": [
    "agc_events.muon[0, 0].delta_r(agc_events.muon[0, 1])"
   ]
  }
 ],
 "metadata": {
  "kernelspec": {
   "display_name": "Python 3 (ipykernel)",
   "language": "python",
   "name": "python3"
  },
  "language_info": {
   "codemirror_mode": {
    "name": "ipython",
    "version": 3
   },
   "file_extension": ".py",
   "mimetype": "text/x-python",
   "name": "python",
   "nbconvert_exporter": "python",
   "pygments_lexer": "ipython3",
   "version": "3.10.5"
  }
 },
 "nbformat": 4,
 "nbformat_minor": 5
}
