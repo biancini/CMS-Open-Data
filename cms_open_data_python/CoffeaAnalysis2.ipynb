{
 "cells": [
  {
   "cell_type": "code",
   "execution_count": 1,
   "id": "c2ab9508-6de0-4e32-a549-86ff56708b38",
   "metadata": {},
   "outputs": [],
   "source": [
    "import uproot\n",
    "import numpy as np\n",
    "import awkward as ak\n",
    "import hist\n",
    "import matplotlib.pyplot as plt\n",
    "import mplhep as hep\n",
    "from coffea.nanoevents import NanoEventsFactory, BaseSchema\n",
    "from agc_schema import AGCSchema\n",
    "events = NanoEventsFactory.from_root('root://eospublic.cern.ch//eos/opendata/cms/upload/POET/23-Jul-22/RunIIFall15MiniAODv2_TT_TuneCUETP8M1_13TeV-powheg-pythia8_flat/00EFE6B3-01FE-4FBF-ADCB-2921D5903E44_flat.root', schemaclass=AGCSchema, treepath='events').events()"
   ]
  },
  {
   "cell_type": "code",
   "execution_count": 2,
   "id": "52388f9d-4a4a-4cc4-b91b-f63e4c4a8a33",
   "metadata": {},
   "outputs": [
    {
     "data": {
      "text/plain": [
       "<Array [4, 5, 4, 5, 9, 4, ... 7, 4, 4, 6, 5, 4] type='325519 * int64'>"
      ]
     },
     "execution_count": 2,
     "metadata": {},
     "output_type": "execute_result"
    }
   ],
   "source": [
    "ak.num(events.electron, axis=1)\n",
    "ak.num(events.muon, axis=-1)\n",
    "ak.num(events.jet, axis=1)"
   ]
  },
  {
   "cell_type": "code",
   "execution_count": 3,
   "id": "89426b5e-70b7-4feb-be74-a4d25072bb61",
   "metadata": {},
   "outputs": [
    {
     "data": {
      "text/plain": [
       "['pt',\n",
       " 'eta',\n",
       " 'phi',\n",
       " 'ch',\n",
       " 'mass',\n",
       " 'btag',\n",
       " 'hflav',\n",
       " 'corrpt',\n",
       " 'corrptUp',\n",
       " 'corrptDown',\n",
       " 'corrptSmearUp',\n",
       " 'corrptSmearDown',\n",
       " 'corrmass',\n",
       " 'corre',\n",
       " 'corrpx',\n",
       " 'corrpy',\n",
       " 'corrpz',\n",
       " 'energy']"
      ]
     },
     "execution_count": 3,
     "metadata": {},
     "output_type": "execute_result"
    }
   ],
   "source": [
    "events.electron.fields\n",
    "events.muon.fields\n",
    "events.jet.fields"
   ]
  },
  {
   "cell_type": "code",
   "execution_count": 4,
   "id": "380291ad-d5fd-4b8f-b90c-0adc9080658e",
   "metadata": {},
   "outputs": [],
   "source": [
    "selected_electrons = events.electron[(events.electron.pt > 30) & (abs(events.electron.eta)<2.1) & (events.electron.isTight == True)]\n",
    "selected_muons = events.muon[(events.muon.pt > 30) & (abs(events.muon.eta)<2.1) & (events.muon.isTight == True)]\n",
    "selected_jets = events.jet[(events.jet.corrpt > 30) & (abs(events.jet.eta)<2.4)]"
   ]
  },
  {
   "cell_type": "code",
   "execution_count": 5,
   "id": "c426c36a-f765-46c9-836c-61c576d3d026",
   "metadata": {},
   "outputs": [
    {
     "data": {
      "text/plain": [
       "<Array [3, 5, 4, 5, 7, 3, ... 5, 4, 1, 3, 4, 3] type='325519 * int64'>"
      ]
     },
     "execution_count": 5,
     "metadata": {},
     "output_type": "execute_result"
    }
   ],
   "source": [
    "ak.num(selected_electrons, axis=1)\n",
    "ak.num(selected_muons, axis=1)\n",
    "ak.num(selected_jets, axis=1)"
   ]
  },
  {
   "cell_type": "code",
   "execution_count": 6,
   "id": "a59dc78d-ff08-4899-b86e-6f0ef61d431b",
   "metadata": {},
   "outputs": [],
   "source": [
    "selected_electrons = events.electron[(events.electron.pt > 30) & (abs(events.electron.eta)<2.1) & (events.electron.isTight == True) & (events.electron.sip3d < 4)]\n",
    "selected_muons = events.muon[(events.muon.pt > 30) & (abs(events.muon.eta)<2.1) & (events.muon.isTight == True) & (events.muon.sip3d < 4) & (events.muon.pfreliso04DBCorr < 0.15)]"
   ]
  },
  {
   "cell_type": "code",
   "execution_count": 7,
   "id": "16267d1e-fb7e-4be3-bf5e-36139c15b293",
   "metadata": {},
   "outputs": [],
   "source": [
    "event_filters = ((ak.count(selected_electrons.pt, axis=1) + ak.count(selected_muons.pt, axis=1)) == 1)"
   ]
  },
  {
   "cell_type": "code",
   "execution_count": 8,
   "id": "8ea4060f-abaa-4357-858c-52af8ea1930f",
   "metadata": {},
   "outputs": [],
   "source": [
    "event_filters = event_filters & (ak.count(selected_jets.corrpt, axis=1) >= 4)"
   ]
  },
  {
   "cell_type": "code",
   "execution_count": 9,
   "id": "6b94bf85-8910-4f1e-905f-b52c544401f3",
   "metadata": {},
   "outputs": [],
   "source": [
    "# at least one b-tagged jet (\"tag\" means score above threshold)\n",
    "B_TAG_THRESHOLD = 0.8\n",
    "event_filters = event_filters & (ak.sum(selected_jets.btag >= B_TAG_THRESHOLD, axis=1) >= 1)"
   ]
  },
  {
   "cell_type": "code",
   "execution_count": 10,
   "id": "30022bc0-4c13-4ef5-bc15-f871a75fe15f",
   "metadata": {},
   "outputs": [],
   "source": [
    "selected_events = events[event_filters]\n",
    "selected_electrons = selected_electrons[event_filters]\n",
    "selected_muons = selected_muons[event_filters]\n",
    "selected_jets = selected_jets[event_filters]"
   ]
  },
  {
   "cell_type": "code",
   "execution_count": 12,
   "id": "c5bd0b56-8d8f-4c28-9eed-623ba848eceb",
   "metadata": {},
   "outputs": [],
   "source": [
    "region_filter = ak.sum(selected_jets.btag > B_TAG_THRESHOLD, axis=1) >= 2\n",
    "selected_jets_region = selected_jets[region_filter]"
   ]
  },
  {
   "cell_type": "code",
   "execution_count": 13,
   "id": "aba93b1f-1403-458f-ba2d-ef6f3441a99a",
   "metadata": {},
   "outputs": [],
   "source": [
    "trijet = ak.combinations(selected_jets_region, 3, fields=[\"j1\", \"j2\", \"j3\"])  # trijet candidates\n",
    "trijet[\"p4\"] = trijet.j1 + trijet.j2 + trijet.j3  # calculate four-momentum of tri-jet system\n",
    "trijet[\"max_btag\"] = np.maximum(trijet.j1.btag, np.maximum(trijet.j2.btag, trijet.j3.btag))\n",
    "trijet = trijet[trijet.max_btag > B_TAG_THRESHOLD]  # require at least one-btag in trijet candidates\n",
    "# pick trijet candidate with largest pT and calculate mass of system\n",
    "trijet_mass = trijet[\"p4\"][ak.argmax(trijet.p4.pt, axis=1, keepdims=True)].mass\n",
    "observable = ak.flatten(trijet_mass)"
   ]
  },
  {
   "cell_type": "code",
   "execution_count": 14,
   "id": "f4ecf7af-273c-47d8-9912-a416bc19f496",
   "metadata": {},
   "outputs": [],
   "source": [
    "histogram = hist.Hist.new.Reg(25, 50, 550, name=\"observable\", label=\"observable [GeV]\").StrCat([\"4j1b\", \"4j2b\"], name=\"region\", label=\"Region\").StrCat([], name=\"process\", label=\"Process\", growth=True).StrCat([], name=\"variation\", label=\"Systematic variation\", growth=True).Weight()"
   ]
  },
  {
   "cell_type": "code",
   "execution_count": 15,
   "id": "bc3a284d-e5d8-4541-a26d-b314da634616",
   "metadata": {},
   "outputs": [
    {
     "data": {
      "text/plain": [
       "(Regular(25, 50, 550, name='observable', label='observable [GeV]'),\n",
       " StrCategory(['4j1b', '4j2b'], name='region', label='Region'),\n",
       " StrCategory([], growth=True, name='process', label='Process'),\n",
       " StrCategory([], growth=True, name='variation', label='Systematic variation'))"
      ]
     },
     "execution_count": 15,
     "metadata": {},
     "output_type": "execute_result"
    }
   ],
   "source": [
    "histogram.ndim\n",
    "histogram.axes"
   ]
  },
  {
   "cell_type": "code",
   "execution_count": 16,
   "id": "93903d22-c44d-4811-8704-8d917132d6e2",
   "metadata": {},
   "outputs": [
    {
     "data": {
      "text/plain": [
       "Hist(\n",
       "  Regular(25, 50, 550, name='observable', label='observable [GeV]'),\n",
       "  StrCategory(['4j1b', '4j2b'], name='region', label='Region'),\n",
       "  StrCategory(['ttbar'], growth=True, name='process', label='Process'),\n",
       "  StrCategory(['nominal'], growth=True, name='variation', label='Systematic variation'),\n",
       "  storage=Weight()) # Sum: WeightedSum(value=63995, variance=63995) (WeightedSum(value=65595, variance=65595) with flow)"
      ]
     },
     "execution_count": 16,
     "metadata": {},
     "output_type": "execute_result"
    }
   ],
   "source": [
    "histogram.fill(observable=observable, region=\"4j2b\", process=\"ttbar\", variation=\"nominal\", weight=1)"
   ]
  },
  {
   "cell_type": "code",
   "execution_count": 17,
   "id": "906c26c9-9080-4d08-b35c-f05489ca7d96",
   "metadata": {},
   "outputs": [
    {
     "data": {
      "image/png": "[encoded data removed]",
      "text/plain": [
       "<Figure size 432x288 with 1 Axes>"
      ]
     },
     "metadata": {
      "needs_background": "light"
     },
     "output_type": "display_data"
    }
   ],
   "source": [
    "histogram[:,\"4j2b\",\"ttbar\",\"nominal\"].plot(histtype=\"fill\", linewidth=1, edgecolor=\"grey\", label='ttbar')\n",
    "plt.legend()\n",
    "plt.title(\">= 4 jets, >= 2 b-tags\")\n",
    "plt.xlabel(\"$m_{bjj}$ [Gev]\");\n",
    "plt.show()"
   ]
  },
  {
   "cell_type": "code",
   "execution_count": null,
   "id": "0cce8cbc-e199-4aaf-b642-c5275194762e",
   "metadata": {},
   "outputs": [],
   "source": []
  }
 ],
 "metadata": {
  "kernelspec": {
   "display_name": "Python 3 (ipykernel)",
   "language": "python",
   "name": "python3"
  },
  "language_info": {
   "codemirror_mode": {
    "name": "ipython",
    "version": 3
   },
   "file_extension": ".py",
   "mimetype": "text/x-python",
   "name": "python",
   "nbconvert_exporter": "python",
   "pygments_lexer": "ipython3",
   "version": "3.10.5"
  }
 },
 "nbformat": 4,
 "nbformat_minor": 5
}
